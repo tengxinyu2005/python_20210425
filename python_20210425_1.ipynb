{
  "nbformat": 4,
  "nbformat_minor": 0,
  "metadata": {
    "colab": {
      "name": "python_20210425-1.ipynb",
      "provenance": [],
      "collapsed_sections": [],
      "toc_visible": true,
      "authorship_tag": "ABX9TyPlW3YsgczxnDWTjBHPiKRV",
      "include_colab_link": true
    },
    "kernelspec": {
      "name": "python3",
      "display_name": "Python 3"
    },
    "language_info": {
      "name": "python"
    }
  },
  "cells": [
    {
      "cell_type": "markdown",
      "metadata": {
        "id": "view-in-github",
        "colab_type": "text"
      },
      "source": [
        "<a href=\"https://colab.research.google.com/github/tengxinyu2005/python_20210425-1/blob/main/python_20210425_1.ipynb\" target=\"_parent\"><img src=\"https://colab.research.google.com/assets/colab-badge.svg\" alt=\"Open In Colab\"/></a>"
      ]
    },
    {
      "cell_type": "markdown",
      "metadata": {
        "id": "yvFF-HTjuw1W"
      },
      "source": [
        "Happy Python Day 2021.4.25\n",
        "\n"
      ]
    },
    {
      "cell_type": "markdown",
      "metadata": {
        "id": "L2yJHfjeXgmj"
      },
      "source": [
        "#基礎輸入與輸出"
      ]
    },
    {
      "cell_type": "code",
      "metadata": {
        "id": "w_SPzJBDtFSO"
      },
      "source": [
        "i = 1\n",
        "\n",
        "while i < 6:\n",
        "  print(i)\n",
        "  i += 1"
      ],
      "execution_count": null,
      "outputs": []
    },
    {
      "cell_type": "code",
      "metadata": {
        "id": "icSYQidYXwEw"
      },
      "source": [
        "a,b = eval(input(\"請輸入兩個數位：\"))\n",
        "a,b"
      ],
      "execution_count": null,
      "outputs": []
    },
    {
      "cell_type": "markdown",
      "metadata": {
        "id": "wRbZSqW61Jfq"
      },
      "source": [
        "# 使用外部linux指令\n",
        "\n",
        "要用驚嘆號\n",
        "\n",
        "pip\n",
        "\n",
        "pip install\n",
        "\n",
        "pip list\n",
        "\n",
        "上網google查詢\n"
      ]
    },
    {
      "cell_type": "code",
      "metadata": {
        "id": "DFIwYIbU0x0L"
      },
      "source": [
        "!pip list"
      ],
      "execution_count": null,
      "outputs": []
    },
    {
      "cell_type": "code",
      "metadata": {
        "id": "NP5KyVYL8YAY"
      },
      "source": [
        "# -*- coding: utf-8 -*-\n",
        "x = input('Enter your name:')\n",
        "print('Hello, ' + x)"
      ],
      "execution_count": null,
      "outputs": []
    },
    {
      "cell_type": "code",
      "metadata": {
        "id": "D-E5_X3x8mmZ"
      },
      "source": [
        "# -*- coding: utf-8 -*-\n",
        "a = input(\"請輸入：\")\n",
        "a\n",
        "b=a+1\n",
        "b\n"
      ],
      "execution_count": null,
      "outputs": []
    },
    {
      "cell_type": "code",
      "metadata": {
        "id": "952kexG59DKZ"
      },
      "source": [
        "# -*- coding: utf-8 -*-\n",
        "a = eval(input(\"請輸入：\"))\n",
        "a\n",
        "\n",
        "b=a+1\n",
        "b"
      ],
      "execution_count": null,
      "outputs": []
    },
    {
      "cell_type": "markdown",
      "metadata": {
        "id": "spwBYE3aYagU"
      },
      "source": [
        "#格式化輸出\n"
      ]
    },
    {
      "cell_type": "code",
      "metadata": {
        "id": "DdEgp1Do9yyf"
      },
      "source": [
        "print(\"Happy : %2d, Python : %5.2f\" % (1, 5.333))"
      ],
      "execution_count": null,
      "outputs": []
    },
    {
      "cell_type": "code",
      "metadata": {
        "id": "41hAdAoc_Efu"
      },
      "source": [
        "print(\"%7.3o\" % (25))"
      ],
      "execution_count": null,
      "outputs": []
    },
    {
      "cell_type": "code",
      "metadata": {
        "id": "_Z9HU5K_Lwpc"
      },
      "source": [
        "print(\"%10.3E\" % (356.08977))"
      ],
      "execution_count": null,
      "outputs": []
    },
    {
      "cell_type": "code",
      "metadata": {
        "id": "toIkMZ1iLyen"
      },
      "source": [
        "print(\"Total students : %3d, Boys : %2d\" % (240, 120))"
      ],
      "execution_count": null,
      "outputs": []
    },
    {
      "cell_type": "code",
      "metadata": {
        "id": "6MLJ6BwwL34U"
      },
      "source": [
        "print(\"Happy : %2d, Python : %5.2f\" % (1, 05.333))"
      ],
      "execution_count": null,
      "outputs": []
    },
    {
      "cell_type": "code",
      "metadata": {
        "id": "Nhww0LkuOiZt"
      },
      "source": [
        "# using format() method\n",
        "print('I love {} for \"{}!\"'.format('Python', 'CTFer'))"
      ],
      "execution_count": null,
      "outputs": []
    },
    {
      "cell_type": "code",
      "metadata": {
        "id": "0bp3oTWKOuWq"
      },
      "source": [
        "print('{0} and {1}'.format('Python', 'CTFer'))"
      ],
      "execution_count": null,
      "outputs": []
    },
    {
      "cell_type": "code",
      "metadata": {
        "id": "P4NZIeL7Ox4a"
      },
      "source": [
        "print('{1} and {0}'.format('Python', 'CTFer'))"
      ],
      "execution_count": null,
      "outputs": []
    }
  ]
}