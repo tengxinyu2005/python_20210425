{
  "nbformat": 4,
  "nbformat_minor": 0,
  "metadata": {
    "colab": {
      "name": "python_20210425-5.ipynb",
      "provenance": [],
      "collapsed_sections": [],
      "toc_visible": true,
      "authorship_tag": "ABX9TyMvIrHuDLs2Bny7Bt4ZzMTb",
      "include_colab_link": true
    },
    "kernelspec": {
      "name": "python3",
      "display_name": "Python 3"
    },
    "language_info": {
      "name": "python"
    }
  },
  "cells": [
    {
      "cell_type": "markdown",
      "metadata": {
        "id": "view-in-github",
        "colab_type": "text"
      },
      "source": [
        "<a href=\"https://colab.research.google.com/github/tengxinyu2005/python_20210425-1/blob/main/python_20210425_5.ipynb\" target=\"_parent\"><img src=\"https://colab.research.google.com/assets/colab-badge.svg\" alt=\"Open In Colab\"/></a>"
      ]
    },
    {
      "cell_type": "markdown",
      "metadata": {
        "id": "yvFF-HTjuw1W"
      },
      "source": [
        "#Happy Python Day 2021.4.25\n",
        "\n"
      ]
    },
    {
      "cell_type": "markdown",
      "metadata": {
        "id": "PMPWSrQjhBie"
      },
      "source": [
        "#函數開發初體驗\n",
        "為什麼要用函式?把常用的功能寫成函式, 再呼叫他"
      ]
    },
    {
      "cell_type": "code",
      "metadata": {
        "colab": {
          "base_uri": "https://localhost:8080/"
        },
        "id": "SZvhYmd6hBz-",
        "outputId": "3188d496-14c1-422b-fdba-9b1ce9728dbf"
      },
      "source": [
        "def sum(i1, i2):\n",
        "    result = 0\n",
        "    for i in range(i1, i2):\n",
        "        result += i\n",
        "    return result\n",
        "\n",
        "def main():\n",
        "    print(\"Sum from 1 to 10 is\", sum(1, 11)) \n",
        "    print(\"Sum from 20 to 37 is\", sum(20, 38))\n",
        "    print(\"Sum from 35 to 49 is\", sum(35, 50))\n",
        "\n",
        "main() # Call the main function"
      ],
      "execution_count": 1,
      "outputs": [
        {
          "output_type": "stream",
          "text": [
            "Sum from 1 to 10 is 55\n",
            "Sum from 20 to 37 is 513\n",
            "Sum from 35 to 49 is 630\n"
          ],
          "name": "stdout"
        }
      ]
    },
    {
      "cell_type": "markdown",
      "metadata": {
        "id": "eafv-y3dhIl1"
      },
      "source": [
        "#函式的定義:\n",
        "函數代碼塊以 def 關鍵字開頭，後接函數識別字名稱和圓括號()。\n",
        "\n",
        "任何傳入參數和引數必須放在圓括號中間。圓括號之間可以用於定義參數。\n",
        "\n",
        "函數的第一行語句可以選擇性地使用文檔字串—用於存放函數說明。\n",
        "\n",
        "函數內容以冒號起始，並且縮排。\n",
        "\n",
        "return [運算式] 結束函數，選擇性地返回一個值給調用方。\n",
        "不帶運算式的return相當於返回 None。\n",
        "\n",
        "函式包含標頭和主體。\n",
        "標頭(header)起源於def關鍵字，後接函式名稱和參數，最後以冒號結尾。"
      ]
    },
    {
      "cell_type": "markdown",
      "metadata": {
        "id": "FzjFSnSIhNaF"
      },
      "source": [
        "#【Python 練習實例47】\n",
        "練習撰寫swap(a,b)函式:寫一個函式將輸入的兩個變數值互換\n",
        "想想看C| C++是如何做到的??"
      ]
    },
    {
      "cell_type": "code",
      "metadata": {
        "id": "sXzJwqCPhRuN"
      },
      "source": [
        "#!/usr/bin/python\n",
        "# -*- coding: UTF-8 -*-\n",
        " \n",
        "def swap(a,b):\n",
        "    a,b = b,a\n",
        "    return (a,b)\n",
        " \n",
        "if __name__ == '__main__':\n",
        "    x = 10\n",
        "    y = 20\n",
        "    print('x = %d,y = %d' % (x,y))\n",
        "    x,y = swap(x,y)\n",
        "    print('x = %d,y = %d' % (x,y))"
      ],
      "execution_count": null,
      "outputs": []
    },
    {
      "cell_type": "markdown",
      "metadata": {
        "id": "VzJE2ANehVHl"
      },
      "source": [
        "#函式與回傳值\n",
        "Python的函式是否有無回傳值，端視函式是否有無return敘述。\n",
        "\n",
        "若函式沒有回傳值，預設是回傳一None特殊值。\n",
        "因此，沒有回傳值的函式也稱為None函式。\n",
        "None值可以指定給一變數，表示此變數沒有參考到任何的物件"
      ]
    },
    {
      "cell_type": "markdown",
      "metadata": {
        "id": "FJ3OkKRphWNt"
      },
      "source": [
        "#Python的函數可以回傳多個值(超棒der)\n",
        "傳回2個數字的排列後的結果(由小排到大)[作業:由大排到小]\n",
        "想想看: C 與 C++如何做?"
      ]
    },
    {
      "cell_type": "code",
      "metadata": {
        "id": "qQ_xM8ekhZIu"
      },
      "source": [
        "#!/usr/bin/python \n",
        "# -*- coding: UTF-8 -*- \n",
        "\n",
        "def sort(number1, number2):\n",
        "    if number1 < number2:\n",
        "        return number1, number2\n",
        "    else:\n",
        "        return number2, number1\n",
        "\n",
        "num1, num2 = sort(31, 25)\n",
        "\n",
        "print(\"num1 is\", num1)\n",
        "print(\"num2 is\", num2)"
      ],
      "execution_count": null,
      "outputs": []
    },
    {
      "cell_type": "markdown",
      "metadata": {
        "id": "_1DRhVdShb-W"
      },
      "source": [
        "#作業\n",
        "作業:傳回3個數字的排列後的結果(由小排到大)\n",
        "   def sort(number1, number2, number3)\n",
        "   \n",
        "作業:傳回4個數字的排列後的結果(由小排到大)[你有幾種解法?]\n",
        "\n",
        "思考:傳回多個數字的排序值? ==>排序演算法"
      ]
    },
    {
      "cell_type": "markdown",
      "metadata": {
        "id": "QY3zmGkohky2"
      },
      "source": [
        "#函式與參數\n",
        "請依照底下範例學習幾種參數技術\n",
        "Default arguments預設參數\n",
        "Positional arguments位置參數\n",
        "Keyword arguments關鍵字參數"
      ]
    },
    {
      "cell_type": "markdown",
      "metadata": {
        "id": "06JBW1dUiF0P"
      },
      "source": [
        "#參數 的 使用技巧"
      ]
    },
    {
      "cell_type": "markdown",
      "metadata": {
        "id": "1I38DbLaiZGO"
      },
      "source": [
        "小小測驗:執行下列程式並說明其結果"
      ]
    },
    {
      "cell_type": "code",
      "metadata": {
        "id": "o2qeJZiviAKP"
      },
      "source": [
        "#!/usr/bin/python \n",
        "# -*- coding: UTF-8 -*- \n",
        "\n",
        "def hello_3(greeting='Hello', name='world'): \n",
        "    print('{}, {}!'.format(greeting, name)) \n",
        "\n",
        "    \n",
        "hello_3() \n",
        "hello_3('Greetings') \n",
        "hello_3('Greetings', 'universe')\n",
        "hello_3(name='GGGGGGoood')"
      ],
      "execution_count": null,
      "outputs": []
    },
    {
      "cell_type": "markdown",
      "metadata": {
        "id": "35oUfXAyigT1"
      },
      "source": [
        "#collectiong parameters(任意數量的參數):* 與 **\n",
        "如何撰寫擁有任意數量參數的函式:"
      ]
    },
    {
      "cell_type": "code",
      "metadata": {
        "id": "0Zmd8lffihk1"
      },
      "source": [
        "def print_params(*params): \n",
        "    print(params) \n",
        "\n",
        "# print_params('Testing') \n",
        "\n",
        "print_params(1, 2, 3) \n",
        "\n",
        "# return的是tuple資料型態"
      ],
      "execution_count": null,
      "outputs": []
    }
  ]
}