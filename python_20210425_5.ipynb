{
  "nbformat": 4,
  "nbformat_minor": 0,
  "metadata": {
    "colab": {
      "name": "python_20210425-5.ipynb",
      "provenance": [],
      "collapsed_sections": [],
      "toc_visible": true,
      "authorship_tag": "ABX9TyN7Mi3FonVDCAzruy4uf3Ed",
      "include_colab_link": true
    },
    "kernelspec": {
      "name": "python3",
      "display_name": "Python 3"
    },
    "language_info": {
      "name": "python"
    }
  },
  "cells": [
    {
      "cell_type": "markdown",
      "metadata": {
        "id": "view-in-github",
        "colab_type": "text"
      },
      "source": [
        "<a href=\"https://colab.research.google.com/github/tengxinyu2005/python_20210425-1/blob/main/python_20210425_5.ipynb\" target=\"_parent\"><img src=\"https://colab.research.google.com/assets/colab-badge.svg\" alt=\"Open In Colab\"/></a>"
      ]
    },
    {
      "cell_type": "markdown",
      "metadata": {
        "id": "yvFF-HTjuw1W"
      },
      "source": [
        "#Happy Python Day 2021.4.25\n",
        "\n"
      ]
    },
    {
      "cell_type": "markdown",
      "metadata": {
        "id": "PMPWSrQjhBie"
      },
      "source": [
        "#函數開發初體驗\n",
        "為什麼要用函式?把常用的功能寫成函式, 再呼叫他"
      ]
    },
    {
      "cell_type": "code",
      "metadata": {
        "colab": {
          "base_uri": "https://localhost:8080/"
        },
        "id": "SZvhYmd6hBz-",
        "outputId": "3188d496-14c1-422b-fdba-9b1ce9728dbf"
      },
      "source": [
        "def sum(i1, i2):\n",
        "    result = 0\n",
        "    for i in range(i1, i2):\n",
        "        result += i\n",
        "    return result\n",
        "\n",
        "def main():\n",
        "    print(\"Sum from 1 to 10 is\", sum(1, 11)) \n",
        "    print(\"Sum from 20 to 37 is\", sum(20, 38))\n",
        "    print(\"Sum from 35 to 49 is\", sum(35, 50))\n",
        "\n",
        "main() # Call the main function"
      ],
      "execution_count": 1,
      "outputs": [
        {
          "output_type": "stream",
          "text": [
            "Sum from 1 to 10 is 55\n",
            "Sum from 20 to 37 is 513\n",
            "Sum from 35 to 49 is 630\n"
          ],
          "name": "stdout"
        }
      ]
    },
    {
      "cell_type": "markdown",
      "metadata": {
        "id": "eafv-y3dhIl1"
      },
      "source": [
        "#函式的定義:\n",
        "函數代碼塊以 def 關鍵字開頭，後接函數識別字名稱和圓括號()。\n",
        "\n",
        "任何傳入參數和引數必須放在圓括號中間。圓括號之間可以用於定義參數。\n",
        "\n",
        "函數的第一行語句可以選擇性地使用文檔字串—用於存放函數說明。\n",
        "\n",
        "函數內容以冒號起始，並且縮排。\n",
        "\n",
        "return [運算式] 結束函數，選擇性地返回一個值給調用方。\n",
        "不帶運算式的return相當於返回 None。\n",
        "\n",
        "函式包含標頭和主體。\n",
        "標頭(header)起源於def關鍵字，後接函式名稱和參數，最後以冒號結尾。"
      ]
    },
    {
      "cell_type": "markdown",
      "metadata": {
        "id": "FzjFSnSIhNaF"
      },
      "source": [
        "#【Python 練習實例47】\n",
        "練習撰寫swap(a,b)函式:寫一個函式將輸入的兩個變數值互換\n",
        "想想看C| C++是如何做到的??"
      ]
    },
    {
      "cell_type": "code",
      "metadata": {
        "id": "sXzJwqCPhRuN"
      },
      "source": [
        "#!/usr/bin/python\n",
        "# -*- coding: UTF-8 -*-\n",
        " \n",
        "def swap(a,b):\n",
        "    a,b = b,a\n",
        "    return (a,b)\n",
        " \n",
        "if __name__ == '__main__':\n",
        "    x = 10\n",
        "    y = 20\n",
        "    print('x = %d,y = %d' % (x,y))\n",
        "    x,y = swap(x,y)\n",
        "    print('x = %d,y = %d' % (x,y))"
      ],
      "execution_count": null,
      "outputs": []
    },
    {
      "cell_type": "markdown",
      "metadata": {
        "id": "VzJE2ANehVHl"
      },
      "source": [
        "#函式與回傳值\n",
        "Python的函式是否有無回傳值，端視函式是否有無return敘述。\n",
        "\n",
        "若函式沒有回傳值，預設是回傳一None特殊值。\n",
        "因此，沒有回傳值的函式也稱為None函式。\n",
        "None值可以指定給一變數，表示此變數沒有參考到任何的物件"
      ]
    },
    {
      "cell_type": "markdown",
      "metadata": {
        "id": "FJ3OkKRphWNt"
      },
      "source": [
        "#Python的函數可以回傳多個值(超棒der)\n",
        "傳回2個數字的排列後的結果(由小排到大)[作業:由大排到小]\n",
        "想想看: C 與 C++如何做?"
      ]
    },
    {
      "cell_type": "code",
      "metadata": {
        "id": "qQ_xM8ekhZIu"
      },
      "source": [
        "#!/usr/bin/python \n",
        "# -*- coding: UTF-8 -*- \n",
        "\n",
        "def sort(number1, number2):\n",
        "    if number1 < number2:\n",
        "        return number1, number2\n",
        "    else:\n",
        "        return number2, number1\n",
        "\n",
        "num1, num2 = sort(31, 25)\n",
        "\n",
        "print(\"num1 is\", num1)\n",
        "print(\"num2 is\", num2)"
      ],
      "execution_count": null,
      "outputs": []
    },
    {
      "cell_type": "markdown",
      "metadata": {
        "id": "_1DRhVdShb-W"
      },
      "source": [
        "#作業\n",
        "作業:傳回3個數字的排列後的結果(由小排到大)\n",
        "   def sort(number1, number2, number3)\n",
        "   \n",
        "作業:傳回4個數字的排列後的結果(由小排到大)[你有幾種解法?]\n",
        "\n",
        "思考:傳回多個數字的排序值? ==>排序演算法"
      ]
    },
    {
      "cell_type": "markdown",
      "metadata": {
        "id": "QY3zmGkohky2"
      },
      "source": [
        "#函式與參數\n",
        "請依照底下範例學習幾種參數技術\n",
        "Default arguments預設參數\n",
        "Positional arguments位置參數\n",
        "Keyword arguments關鍵字參數"
      ]
    },
    {
      "cell_type": "markdown",
      "metadata": {
        "id": "06JBW1dUiF0P"
      },
      "source": [
        "#參數 的 使用技巧"
      ]
    },
    {
      "cell_type": "markdown",
      "metadata": {
        "id": "1I38DbLaiZGO"
      },
      "source": [
        "小小測驗:執行下列程式並說明其結果"
      ]
    },
    {
      "cell_type": "code",
      "metadata": {
        "id": "o2qeJZiviAKP"
      },
      "source": [
        "#!/usr/bin/python \n",
        "# -*- coding: UTF-8 -*- \n",
        "\n",
        "def hello_3(greeting='Hello', name='world'): \n",
        "    print('{}, {}!'.format(greeting, name)) \n",
        "\n",
        "    \n",
        "hello_3() \n",
        "hello_3('Greetings') \n",
        "hello_3('Greetings', 'universe')\n",
        "hello_3(name='GGGGGGoood')"
      ],
      "execution_count": null,
      "outputs": []
    },
    {
      "cell_type": "markdown",
      "metadata": {
        "id": "35oUfXAyigT1"
      },
      "source": [
        "#collectiong parameters(任意數量的參數):* 與 **\n",
        "如何撰寫擁有任意數量參數的函式:"
      ]
    },
    {
      "cell_type": "code",
      "metadata": {
        "id": "0Zmd8lffihk1"
      },
      "source": [
        "def print_params(*params): \n",
        "    print(params) \n",
        "\n",
        "# print_params('Testing') \n",
        "\n",
        "print_params(1, 2, 3) \n",
        "\n",
        "# return的是tuple資料型態"
      ],
      "execution_count": null,
      "outputs": []
    },
    {
      "cell_type": "markdown",
      "metadata": {
        "id": "TWXOYohuiqcQ"
      },
      "source": [
        "可和一般參數一齊用"
      ]
    },
    {
      "cell_type": "code",
      "metadata": {
        "id": "gaoFXtLBirSq"
      },
      "source": [
        "def print_params_2(title, *params): \n",
        "    print(title) \n",
        "    print(params)\n",
        "\n",
        "print_params_2('Params:', 1, 2, 3)"
      ],
      "execution_count": null,
      "outputs": []
    },
    {
      "cell_type": "markdown",
      "metadata": {
        "id": "gg267ZWditpl"
      },
      "source": [
        "撰寫擁有任意數量參數的函式 且要支援 關鍵字參數==>使用**"
      ]
    },
    {
      "cell_type": "code",
      "metadata": {
        "id": "OnBMhgumivdt"
      },
      "source": [
        "def print_params_3(**params): \n",
        "    print(params) \n",
        "\n",
        "print_params_3(x=1, y=2, z=3) \n",
        "\n",
        "# return的是dict(字典資料型態)"
      ],
      "execution_count": null,
      "outputs": []
    },
    {
      "cell_type": "markdown",
      "metadata": {
        "id": "Jws2AlPoiyTf"
      },
      "source": [
        "綜合練習 ==> 先不跑程式, 你能說出底下會列印出甚麼嗎?"
      ]
    },
    {
      "cell_type": "code",
      "metadata": {
        "id": "SPpgtOjli0e1"
      },
      "source": [
        "def print_params_4(x, y, z=3, *pospar, **keypar): \n",
        "    print(x, y, z) \n",
        "    print(pospar) \n",
        "    print(keypar) \n",
        "\n",
        "print_params_4(1, 2, 4, 5, 6, 7, foo=1, bar=2)\n",
        "\n",
        "print_params_4(1, 2)"
      ],
      "execution_count": null,
      "outputs": []
    },
    {
      "cell_type": "markdown",
      "metadata": {
        "id": "TgaRD9efi2y9"
      },
      "source": [
        "#[特別注意]要將字典dict型的資料傳給函數時,記得要使用**"
      ]
    },
    {
      "cell_type": "code",
      "metadata": {
        "id": "yK2z-l8Mi58d"
      },
      "source": [
        "params = {'name': 'Sir Simon Rattle', 'greeting': 'To my Great Conductor'}\n",
        "hello_3(**params)"
      ],
      "execution_count": null,
      "outputs": []
    },
    {
      "cell_type": "markdown",
      "metadata": {
        "id": "p_FNblg2jA-v"
      },
      "source": [
        "#變數的有效範圍\n",
        "變數的有效範圍(Scope)：變數在程式可參考的範圍。\n",
        "\n",
        "區域變數(local variable):宣告在函式內部的變數\n",
        "\n",
        "全域變數(global variables):宣告在所有函式外部的變數"
      ]
    },
    {
      "cell_type": "code",
      "metadata": {
        "id": "ioYcyAYYjCJ2"
      },
      "source": [
        "x = 111\n",
        "\n",
        "def f1():\n",
        "    x = 222\n",
        "    print(x) \n",
        "\n",
        "f1()\n",
        "print(x)\n",
        "\n",
        "x = 1\n",
        "\n",
        "def increase():\n",
        "    global x\n",
        "    x =  x + 1\n",
        "    print(x) \n",
        "\n",
        "increase()\n",
        "print(x)\n",
        "increase()\n",
        "increase()\n",
        "print(x)"
      ],
      "execution_count": null,
      "outputs": []
    },
    {
      "cell_type": "markdown",
      "metadata": {
        "id": "GM42KwYTjEl-"
      },
      "source": [
        "#各種函數技術"
      ]
    },
    {
      "cell_type": "markdown",
      "metadata": {
        "id": "gm2joAoWjHfu"
      },
      "source": [
        "#匿名函數==>lambda 運算式\n",
        "匿名函數==沒有函數名稱、臨時使用的小函數\n",
        "使用lambda 運算式來宣告匿名函數\n",
        "lambda 運算式只能包含一個運算式， 不允許複雜的語句，但運算式中可呼叫其他函數"
      ]
    },
    {
      "cell_type": "markdown",
      "metadata": {
        "id": "WcO2w7LpjKBe"
      },
      "source": [
        "把lambda運算式當做函數"
      ]
    },
    {
      "cell_type": "code",
      "metadata": {
        "id": "llqEdc-SjL1G"
      },
      "source": [
        "f1 = lambda x, y, z: x+2*y+3*z\n",
        "print(f1(2,3,1))"
      ],
      "execution_count": null,
      "outputs": []
    },
    {
      "cell_type": "markdown",
      "metadata": {
        "id": "wimdluMwjdp3"
      },
      "source": [
        "#在lambda 運算式中呼叫其他函式(重要技術)\n",
        "把list的每筆資料取平方"
      ]
    },
    {
      "cell_type": "code",
      "metadata": {
        "id": "p4h7_YH9nZ-h"
      },
      "source": [
        "def myfunc(m):\n",
        "    return m*m\n",
        "\n",
        "my_list = [1, 3, 5, 7, 9]\n",
        "\n",
        "## 使用python的map()\n",
        "\n",
        "map(lambda x:myfunc(x), my_list)"
      ],
      "execution_count": null,
      "outputs": []
    },
    {
      "cell_type": "markdown",
      "metadata": {
        "id": "eEEQ61t8ncFu"
      },
      "source": [
        "#遞迴函式 ==> recursive vs iterative(loop)\n",
        "遞迴 (Recursion)函式:在函式中會呼叫自己函式\n",
        "\n",
        "遞迴 (Recursion)與分治法(分而治之 Divide-and-conquer)\n",
        "\n",
        "分治法(分而治之)是重要的演算法典範 \n",
        " 把一個複雜的問題分成兩個或更多的相同或相似的子問題，直到最後子問題可以簡單的直接求解，\n",
        " 原問題的解即子問題的解的合併\n",
        " recursion is a method of solving a problem \n",
        " where the solution depends on solutions to smaller instances of the same problem\n",
        " \n",
        "https://en.wikipedia.org/wiki/Divide-and-conquer_algorithm\n",
        "大部分程式語言(Pyhon| C| C++|C#|JAVA )都會教 遞迴函式,底下是常用來當作業\n",
        "程式開發作業:費氏數列\n",
        "程式開發作業::1+2+3+....+n\n",
        "程式開發作業:n!\n",
        "程式開發作業:x的n次方\n",
        "程式開發作業:二項係數\n",
        "程式開發作業 Ackermann函式:\n",
        "     (https://en.wikipedia.org/wiki/Ackermann_function)\n",
        "\n",
        "資料結構與演算法 ==> 例舉數例\n",
        "程式開發作業:河內塔\n",
        "程式開發作業:八皇后問題\n",
        "程式開發作業:binary search二元搜尋法\n",
        "\n",
        "\n",
        "函式開發 使用recursive 遞迴技術\n",
        "函式開發 使用iterative(loop) 技術\n",
        "\n",
        "大學課程 ==> 還要教時間複雜度的計算\n",
        "   recursive vs iterative(loop) 哪一個效能比較好 ?? 大學 再學"
      ]
    },
    {
      "cell_type": "markdown",
      "metadata": {
        "id": "tOIXIZbdn6X6"
      },
      "source": [
        "#範例:費氏數列\n",
        "費氏數列Fibonacci sequence又稱 黃金分割數列\n",
        "0、1、1、2、3、5、8、13、21、34、……。\n",
        "\n",
        "在數學上，費波那契數列是以遞迴的方法來定義：\n",
        "F(0) = 0    (n=0)\n",
        "F(1) = 1    (n=1)\n",
        "F(n) = F(n-1)+ F(n-2)(n=>2)\n",
        "\n",
        "註:費氏數列有許多變化與定義,仔細區別之"
      ]
    },
    {
      "cell_type": "markdown",
      "metadata": {
        "id": "fgBAdr81n7k0"
      },
      "source": [
        "方法一:使用 recursive"
      ]
    },
    {
      "cell_type": "code",
      "metadata": {
        "id": "mDRnV8bvn-cY"
      },
      "source": [
        "#!/usr/bin/python\n",
        "# -*- coding: UTF-8 -*-\n",
        "\n",
        "def fib(n):\n",
        "    if n==1 or n==2:\n",
        "        return 1\n",
        "    return fib(n-1)+fib(n-2)\n",
        "\n",
        "print(fib(10))"
      ],
      "execution_count": null,
      "outputs": []
    },
    {
      "cell_type": "markdown",
      "metadata": {
        "id": "hpCcwPMgoBwM"
      },
      "source": [
        "方法二:使用 iterative"
      ]
    },
    {
      "cell_type": "code",
      "metadata": {
        "id": "y2nKfx7toDt8"
      },
      "source": [
        "#!/usr/bin/python\n",
        "# -*- coding: UTF-8 -*-\n",
        " \n",
        "def fib(n):\n",
        "    a,b = 1,1\n",
        "    for i in range(n-1):\n",
        "        a,b = b,a+b\n",
        "    return a\n",
        " \n",
        "\n",
        "print(fib(10))"
      ],
      "execution_count": null,
      "outputs": []
    },
    {
      "cell_type": "markdown",
      "metadata": {
        "id": "vqginZVvoFm_"
      },
      "source": [
        "#【Python 練習實例28】\n",
        "有5個人坐在一起，\n",
        "問第五個人多少歲？他說比第4個人大2歲。\n",
        "問第4個人歲數，他說比第3個人大2歲。\n",
        "問第三個人，又說比第2人大兩歲。\n",
        "問第2個人，說比第一個人大兩歲。\n",
        "最後問第一個人，他說是10歲。\n",
        "請問第五個人多大？"
      ]
    },
    {
      "cell_type": "markdown",
      "metadata": {
        "id": "r0SvwaeOoIxM"
      },
      "source": [
        "#問題:要如何知道函數被呼叫的次數??\n",
        "遞迴函式的呼叫次數 ==> 全域變數的應用\n",
        "還有其他方法嗎?"
      ]
    },
    {
      "cell_type": "code",
      "metadata": {
        "id": "ybrpjwu1oLOm"
      },
      "source": [
        "#!/usr/bin/python\n",
        "# -*- coding: UTF-8 -*-\n",
        "\n",
        "def fib(x):\t\n",
        "\tglobal numFibCalls\n",
        "\tnumFibCalls += 1\n",
        "\t\n",
        "\tif x == 0 or x == 1:\n",
        "           return 1\n",
        "\telse:\n",
        "          return fib(x-1) + fib(x-2)\n",
        "\n",
        "def testFib(n):\n",
        "\tfor i in range(n+1):\n",
        "          global numFibCalls\n",
        "          numFibCalls = 0\n",
        "          print('fib of', i, '=', fib(i))\n",
        "          print('fib called', numFibCalls, 'times.')\n",
        "\n",
        "testFib(4)"
      ],
      "execution_count": null,
      "outputs": []
    },
    {
      "cell_type": "markdown",
      "metadata": {
        "id": "LOUJ-sMqoNv0"
      },
      "source": [
        "#Python內建函數==>Built-in Functions:\n",
        "Python有許多內建函數\n",
        "請講師帶學生看看底下官方的文件\n",
        "https://docs.python.org/3.8/library/functions.html\n",
        "\n",
        "使用範例 ==> 請參考 https://www.programiz.com/python-programming/methods/built-in\n",
        "             看不懂的部分..以後再學  \n",
        "\n",
        "底下範例說明hex(x),oct(x),bin(x)內建函數的使用"
      ]
    },
    {
      "cell_type": "markdown",
      "metadata": {
        "id": "1Rajpr6doQ0W"
      },
      "source": [
        "#數目系統(number system)之n進位制(十進位,二進位,)與轉換(十進位 轉 二進位,...等)\n",
        "數目系統(number system)之n進位制說明 \n",
        " ==> 請參閱 https://zh.wikipedia.org/wiki/進位制\n",
        "直接在Google Colab輸入後 再執行  即可看到答案\n",
        "\n",
        "十進位數字 轉 十六進位 ==> hex(255) hex(-42)\n",
        "十進位數字 轉 八進位 ==> oct(8)\n",
        "十進位數字 轉 二進位 ==> bin(3)\n",
        "\n",
        "二進位 轉 十進位數字 ==> 0b10 \n",
        "八進位 轉 十進位數字 ==> 0o10   0o10101110\n",
        "十六進位 轉 十進位數字 ==>0x10"
      ]
    },
    {
      "cell_type": "markdown",
      "metadata": {
        "id": "5dvpETVMoWvs"
      },
      "source": [
        "#作業\n",
        "舉例說明底下內建函數(Built-in Functions)的用法:\n",
        "1 divmod(a, b) \n",
        "  ==> divmod(3, 5)與divmod(5,3)會輸出甚麼答案?答案是什麼資料型態?\n",
        "\n",
        "2 pow(base, exp  , mod) \n",
        "   ==> pow(2,3)與pow(2,3,5)分別會輸出甚麼答案?\n",
        "   \n",
        "3 chr(i) 與 ord(c)  ==> ACII 編碼與解碼 "
      ]
    }
  ]
}