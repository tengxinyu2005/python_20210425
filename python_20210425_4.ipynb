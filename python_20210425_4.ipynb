{
  "nbformat": 4,
  "nbformat_minor": 0,
  "metadata": {
    "colab": {
      "name": "python_20210425-4.ipynb",
      "provenance": [],
      "collapsed_sections": [],
      "authorship_tag": "ABX9TyO9RhT30su0QDSKY1hdhek5",
      "include_colab_link": true
    },
    "kernelspec": {
      "name": "python3",
      "display_name": "Python 3"
    },
    "language_info": {
      "name": "python"
    }
  },
  "cells": [
    {
      "cell_type": "markdown",
      "metadata": {
        "id": "view-in-github",
        "colab_type": "text"
      },
      "source": [
        "<a href=\"https://colab.research.google.com/github/tengxinyu2005/python_20210425-1/blob/main/python_20210425_4.ipynb\" target=\"_parent\"><img src=\"https://colab.research.google.com/assets/colab-badge.svg\" alt=\"Open In Colab\"/></a>"
      ]
    },
    {
      "cell_type": "markdown",
      "metadata": {
        "id": "yvFF-HTjuw1W"
      },
      "source": [
        "#Happy Python Day 2021.4.25\n",
        "\n"
      ]
    },
    {
      "cell_type": "markdown",
      "metadata": {
        "id": "N4HE9z7maong"
      },
      "source": [
        "#range() 函式\n",
        " 使用range 函式 的建立整數循序數列\n",
        " \n",
        "變數1 = range(整數值)\n",
        "變數2 = range(起始值, 終止值)\n",
        "變數3 = range(起始值, 終止值, 多少間隔)"
      ]
    },
    {
      "cell_type": "markdown",
      "metadata": {
        "id": "njCKZTeoawLX"
      },
      "source": [
        "#range(整數值)"
      ]
    },
    {
      "cell_type": "code",
      "metadata": {
        "id": "kdTS9oVbaxMQ"
      },
      "source": [
        "list1=range(10)\n",
        "print(list1)\n",
        "\n",
        "print(list(list1))"
      ],
      "execution_count": null,
      "outputs": []
    },
    {
      "cell_type": "markdown",
      "metadata": {
        "id": "B4yHgbiza4-X"
      },
      "source": [
        "# range(起始值, 終止值)"
      ]
    },
    {
      "cell_type": "code",
      "metadata": {
        "id": "_xUcO7Jua65f"
      },
      "source": [
        "list2=range(-4,5)\n",
        "print(list(list2))"
      ],
      "execution_count": null,
      "outputs": []
    },
    {
      "cell_type": "markdown",
      "metadata": {
        "id": "ZGs5Fwh6bAAX"
      },
      "source": [
        "#range(起始值, 終止值, 多少間隔)"
      ]
    },
    {
      "cell_type": "code",
      "metadata": {
        "id": "7sM_-g8rbBWN"
      },
      "source": [
        "list3=range(-4,5,2)\n",
        "print(list(list3))\n",
        "list4=range(-4,6,2)\n",
        "print(list(list4))"
      ],
      "execution_count": null,
      "outputs": []
    },
    {
      "cell_type": "markdown",
      "metadata": {
        "id": "-keq6kP1bGFH"
      },
      "source": [
        "#for 廻圈\n",
        "使用for 廻圈 執行固定次數的廻圈運算(通常)"
      ]
    }
  ]
}